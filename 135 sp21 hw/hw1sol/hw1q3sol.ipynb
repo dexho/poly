{
 "cells": [
  {
   "cell_type": "markdown",
   "metadata": {},
   "source": [
    "# BioE 135/235 HW1 Q3\n",
    "\n",
    "In this question, you will be looking at two different, simpler models of the central dogma than the ones you developed in question 1. You will then simulate and plot them, and, at the end, you will compare the extent to which the two models are similar, and the conditions under which that is the case.\n",
    "\n",
    "To start off with, run the cell below to get some preliminary setup tools ready."
   ]
  },
  {
   "cell_type": "code",
   "execution_count": 2,
   "metadata": {
    "scrolled": true
   },
   "outputs": [],
   "source": [
    "import scipy\n",
    "from scipy.integrate import odeint\n",
    "import numpy as np\n",
    "import matplotlib.pyplot as plt"
   ]
  },
  {
   "cell_type": "markdown",
   "metadata": {},
   "source": [
    "Now that we've imported the necessary packages, let's introduce the first model, wherein we'll treat the system as though it consists of two species: the mRNA (which has concentration $m(t)$), and the protein (which has concentration $P(t)$) that is produced from translating this mRNA. These two species will constitute the _state_ of our system.\n",
    "\n",
    "Let's suppose that mRNA is transcribed at a constant rate $k_{tx}$, and degrades at a rate $k_{dm}$. This yields equation (1) below:\n",
    "$$\\frac{d}{dt}m(t) = k_{tx} - k_{dm} m(t)$$\n",
    "\n",
    "Likewise, we'll suppose that protein is translated from mRNA at a rate $k_{tl}$, and degrades at a rate $k_{dp}$. This is shown in equation (2):\n",
    "$$\\frac{d}{dt}P(t) = k_{tl} m(t) - k_{dp} P(t)$$"
   ]
  },
  {
   "cell_type": "markdown",
   "metadata": {},
   "source": [
    "## Part (a):\n",
    "Express the above equations in a matrix form, such that we have\n",
    "$$\\frac{d}{dt} \\begin{bmatrix} m(t) \\\\ P(t) \\end{bmatrix} = A \\begin{bmatrix} m(t) \\\\ P(t) \\end{bmatrix} + \\vec{b}$$\n",
    "\n",
    "Where $A$ is a 2x2 matrix, and $\\vec{b}$ is a 2-dimensional vector of constants.\n",
    "\n",
    "SOLUTION:\n",
    "$$\\frac{d}{dt} \\begin{bmatrix} m(t) \\\\ P(t) \\end{bmatrix} = \\begin{bmatrix}-k_{dm} & 0 \\\\ k_{tl} & -k_{dp} \\end{bmatrix} \\begin{bmatrix} m(t) \\\\ P(t) \\end{bmatrix} + \\begin{bmatrix} k_{tx} \\\\ 0 \\end{bmatrix}$$"
   ]
  },
  {
   "cell_type": "markdown",
   "metadata": {},
   "source": [
    "## Part (b):\n",
    "For the next model, we will work off of a slightly modified version of equation (1) -- in particular, we will apply QSSA to assert that equation (1) is equal to 0. Solve for the steady-state mRNA concentration $m_{ss}$. Using this steady-state value, what is equation (2) now?\n",
    "\n",
    "SOLUTION:\n",
    "$$\\frac{d}{dt}P(t) = \\frac{k_{tx}k_{tl}}{k_{dm}} - k_{dp} P(t)$$"
   ]
  },
  {
   "cell_type": "markdown",
   "metadata": {},
   "source": [
    "## Part (c):\n",
    "Lastly, we will try using Python to simulate each of the above differential equations, and try to get a sense of where it's valid to apply QSSA on this system!\n",
    "\n",
    "This involves a couple of different parts. Firstly, we will be using the `odeint` function from the SciPy library to actually perform our simulations -- you can read up on it [here](https://docs.scipy.org/doc/scipy/reference/generated/scipy.integrate.odeint.html).\n",
    "\n",
    "However, in order to _use_ `odeint`, we need to specify our differential equations in the form of a function that maps our _state,_ a time variable, and any other parameters, to an output that is the time derivative of our state. So, for this question, we'll want to create a function that maps our mRNA concentration, protein concentration, time, and all the system parameters to the time derivative of our mRNA concentration and protein concentration.  We will need to do this for each of the models we have made."
   ]
  },
  {
   "cell_type": "code",
   "execution_count": 3,
   "metadata": {
    "scrolled": true
   },
   "outputs": [],
   "source": [
    "def model1(y, t, k_tx, k_dm, k_tl, k_dp): # this model WILL NOT assume QSSA\n",
    "    mRNA, protein = y # some preliminary setup -- don't worry about this!\n",
    "    \n",
    "    # PART (c)(i) \n",
    "    # TODO: fill in this section with the correct equations for dmRNA/dt and dprotein/dt\n",
    "    dmRNAdt = k_tx - mRNA * k_dm\n",
    "    dproteindt = mRNA * k_tl - protein * k_dp\n",
    "    \n",
    "    # END TODO\n",
    "    dydt = [dmRNAdt, dproteindt]\n",
    "    return dydt\n",
    "    \n",
    "def model2(y, t, k_tx, k_dm, k_tl, k_dp): # this model WILL assume QSSA\n",
    "    mRNA, protein = y # some preliminary setup -- don't worry about this!\n",
    "    \n",
    "    # PART (c)(ii)\n",
    "    # TODO: fill in this section with the correct equations for dmRNA/dt and dprotein/dt\n",
    "    dmRNAdt = 0\n",
    "    dproteindt = k_tx / k_dm * k_tl - k_dp * protein\n",
    "    \n",
    "    # END TODO\n",
    "    dydt = [dmRNAdt, dproteindt]\n",
    "    return dydt"
   ]
  },
  {
   "cell_type": "markdown",
   "metadata": {},
   "source": [
    "Now that that's done, we can go ahead and simulate the systems and compare them to see where they look pretty similar to each other; play around with the values of $k_{tx}$, $k_{dm}$, $k_{tl}$, $k_{dp}$, and observe the graphs that result.  Under what set of circumstances do they look similar? Different?"
   ]
  },
  {
   "cell_type": "code",
   "execution_count": 4,
   "metadata": {},
   "outputs": [
    {
     "data": {
      "image/png": "[encoded data removed]",
      "text/plain": [
       "<Figure size 432x288 with 1 Axes>"
      ]
     },
     "metadata": {
      "needs_background": "light"
     },
     "output_type": "display_data"
    }
   ],
   "source": [
    "y0 = [0, 0]\n",
    "t = np.linspace(0, 10, 1000000)\n",
    "\n",
    "# PART (c)(iii)\n",
    "# TODO: play around with these values to determine under which circumstances it is appropriate to apply QSSA\n",
    "k_tx = 10\n",
    "k_dm = 1e-4\n",
    "k_tl = 10\n",
    "k_dp = 1\n",
    "\n",
    "# END TODO\n",
    "sol1 = odeint(model1, y0, t, args=(k_tx, k_dm, k_tl, k_dp))\n",
    "sol2 = odeint(model2, y0, t, args=(k_tx, k_dm, k_tl, k_dp))\n",
    "\n",
    "\n",
    "fig, ax = plt.subplots()\n",
    "ax.plot(t, sol2[:,1], c=\"red\", label=\"QSSA\")\n",
    "ax.plot(t, sol1[:,1], c=\"blue\", label=\"no QSSA\")\n",
    "ax.legend()\n",
    "plt.xlabel(\"time\")\n",
    "plt.ylabel(\"protein concentration\")\n",
    "\n",
    "plt.show()"
   ]
  },
  {
   "cell_type": "markdown",
   "metadata": {},
   "source": [
    "SOLUTION: \n",
    "You should find that the ration $\\frac{k_{dp}}{k_{dm}}$ will affect whether or not the QSSA is valid here.  In particular, having this ratio very close to zero will validate QSSA, and having it closer to or greater than 1 will invalidate it."
   ]
  }
 ],
 "metadata": {
  "kernelspec": {
   "display_name": "Python 3",
   "language": "python",
   "name": "python3"
  },
  "language_info": {
   "codemirror_mode": {
    "name": "ipython",
    "version": 3
   },
   "file_extension": ".py",
   "mimetype": "text/x-python",
   "name": "python",
   "nbconvert_exporter": "python",
   "pygments_lexer": "ipython3",
   "version": "3.8.3"
  }
 },
 "nbformat": 4,
 "nbformat_minor": 4
}
